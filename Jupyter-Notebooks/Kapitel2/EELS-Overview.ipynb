{
 "cells": [
  {
   "cell_type": "markdown",
   "metadata": {
    "deletable": true,
    "editable": true
   },
   "source": [
    "## EELS - Overview\n",
    "\n",
    "Eines der beiden Diagramme wird in meiner Dissertation bei der Einführung von EELS verwendet.\n",
    "Es handelt sich um zusammengesetzte Spektren, die von eine Querschnittsprobe eines Eisen-Chrom-Schichtsystems aufgenommen wurden.\n",
    "\n",
    "Das zweite Diagramm soll veranschaulichen, was man unter einem Energiefenster versteht. Dazu wird am Beispiel der L_2,3-Kante von Eisen die Nutzung eines 20 eV breiten Energiefensters demonstriert. \n",
    "\n",
    "### Die Daten\n",
    "\n",
    "Es werden zwei verschiedene Spektren geladen (``df1`` und ``df2``). Genutzt wird nur eines der beiden, dies ist ``df2``."
   ]
  },
  {
   "cell_type": "code",
   "execution_count": 1,
   "metadata": {
    "collapsed": false,
    "deletable": true,
    "editable": true
   },
   "outputs": [],
   "source": [
    "import pandas as pd\n",
    "import numpy as np\n",
    "import scipy.optimize\n",
    "import matplotlib.pyplot as plt\n",
    "%matplotlib inline\n",
    "\n",
    "df1 = pd.read_csv('data/EELS-Overview-FeCr_1.csv')\n",
    "df2 = pd.read_csv('data/EELS-Overview-FeCr_2.csv')"
   ]
  },
  {
   "cell_type": "code",
   "execution_count": 2,
   "metadata": {
    "collapsed": false,
    "deletable": true,
    "editable": true
   },
   "outputs": [
    {
     "data": {
      "text/html": [
       "<div>\n",
       "<table border=\"1\" class=\"dataframe\">\n",
       "  <thead>\n",
       "    <tr style=\"text-align: right;\">\n",
       "      <th></th>\n",
       "      <th>X</th>\n",
       "      <th>Y</th>\n",
       "    </tr>\n",
       "  </thead>\n",
       "  <tbody>\n",
       "    <tr>\n",
       "      <th>0</th>\n",
       "      <td>-99.838</td>\n",
       "      <td>2163.001</td>\n",
       "    </tr>\n",
       "    <tr>\n",
       "      <th>1</th>\n",
       "      <td>-99.740</td>\n",
       "      <td>2163.001</td>\n",
       "    </tr>\n",
       "    <tr>\n",
       "      <th>2</th>\n",
       "      <td>-99.643</td>\n",
       "      <td>2163.001</td>\n",
       "    </tr>\n",
       "    <tr>\n",
       "      <th>3</th>\n",
       "      <td>-99.545</td>\n",
       "      <td>2163.001</td>\n",
       "    </tr>\n",
       "    <tr>\n",
       "      <th>4</th>\n",
       "      <td>-99.448</td>\n",
       "      <td>2161.463</td>\n",
       "    </tr>\n",
       "  </tbody>\n",
       "</table>\n",
       "</div>"
      ],
      "text/plain": [
       "        X         Y\n",
       "0 -99.838  2163.001\n",
       "1 -99.740  2163.001\n",
       "2 -99.643  2163.001\n",
       "3 -99.545  2163.001\n",
       "4 -99.448  2161.463"
      ]
     },
     "execution_count": 2,
     "metadata": {},
     "output_type": "execute_result"
    }
   ],
   "source": [
    "df1.head()"
   ]
  },
  {
   "cell_type": "code",
   "execution_count": 3,
   "metadata": {
    "collapsed": false,
    "deletable": true,
    "editable": true
   },
   "outputs": [
    {
     "data": {
      "text/html": [
       "<div>\n",
       "<table border=\"1\" class=\"dataframe\">\n",
       "  <thead>\n",
       "    <tr style=\"text-align: right;\">\n",
       "      <th></th>\n",
       "      <th>X</th>\n",
       "      <th>Y</th>\n",
       "    </tr>\n",
       "  </thead>\n",
       "  <tbody>\n",
       "    <tr>\n",
       "      <th>0</th>\n",
       "      <td>-5.070</td>\n",
       "      <td>2479.255</td>\n",
       "    </tr>\n",
       "    <tr>\n",
       "      <th>1</th>\n",
       "      <td>-4.972</td>\n",
       "      <td>2696.758</td>\n",
       "    </tr>\n",
       "    <tr>\n",
       "      <th>2</th>\n",
       "      <td>-4.875</td>\n",
       "      <td>2703.062</td>\n",
       "    </tr>\n",
       "    <tr>\n",
       "      <th>3</th>\n",
       "      <td>-4.777</td>\n",
       "      <td>2981.175</td>\n",
       "    </tr>\n",
       "    <tr>\n",
       "      <th>4</th>\n",
       "      <td>-4.680</td>\n",
       "      <td>3122.648</td>\n",
       "    </tr>\n",
       "  </tbody>\n",
       "</table>\n",
       "</div>"
      ],
      "text/plain": [
       "       X         Y\n",
       "0 -5.070  2479.255\n",
       "1 -4.972  2696.758\n",
       "2 -4.875  2703.062\n",
       "3 -4.777  2981.175\n",
       "4 -4.680  3122.648"
      ]
     },
     "execution_count": 3,
     "metadata": {},
     "output_type": "execute_result"
    }
   ],
   "source": [
    "df2.head()"
   ]
  },
  {
   "cell_type": "code",
   "execution_count": 4,
   "metadata": {
    "collapsed": false,
    "deletable": true,
    "editable": true,
    "scrolled": false
   },
   "outputs": [
    {
     "name": "stdout",
     "output_type": "stream",
     "text": [
      "Der ZLP liegt bei -0.195 eV.\n"
     ]
    },
    {
     "data": {
      "image/png": "iVBORw0KGgoAAAANSUhEUgAAAmIAAAE/CAYAAADlrq9SAAAABHNCSVQICAgIfAhkiAAAAAlwSFlz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\nAABJRU5ErkJggg==\n",
      "text/plain": [
<<<<<<< HEAD
       "<matplotlib.figure.Figure at 0x7fdfe6c37e48>"
=======
       "<matplotlib.figure.Figure at 0x7f237bbc9f98>"
>>>>>>> 9f6918dbb300e1c939dfad81149e3a9990c115be
      ]
     },
     "metadata": {},
     "output_type": "display_data"
    },
    {
     "name": "stdout",
     "output_type": "stream",
     "text": [
      "Das Maximum des Spektrum ist 60917 mal größer als das Minimum.\n"
     ]
    }
   ],
   "source": [
    "def plot_EELS(data_frame):\n",
    "    \n",
    "    print('Der ZLP liegt bei %.3f eV.' % data_frame.X[np.argmax(data_frame.Y)])\n",
    "    # Shift 0eV to where the intensity is the highest:\n",
    "    x_offset = data_frame.X[np.argmax(data_frame.Y)]\n",
    "    data_frame.X = data_frame.X - x_offset\n",
    "    plt.figure(figsize=(10,5))\n",
    "    plt.fill_between(data_frame.X, 0, data_frame.Y, color='blue', alpha=0.33)\n",
    "    plt.xlabel('Energieverlust [eV]')\n",
    "    plt.ylabel('Intensität [arb. u]')\n",
    "    plt.yscale('log')\n",
    "    plt.xlim(-6, data_frame.X.max())\n",
    "    plt.ylim(1e1, round(1.2 * data_frame.Y.max()))\n",
    "    \n",
    "    fs = 10\n",
    "    plt.text(5,\n",
    "             2e6,\n",
    "             'ZLP',\n",
    "             verticalalignment='top',\n",
    "             horizontalalignment='left',\n",
    "             fontsize=fs\n",
    "            )  \n",
    "    plt.text(17,\n",
    "             2.5e4,\n",
    "             'Plasmon-Peaks',\n",
    "             verticalalignment='bottom',\n",
    "             horizontalalignment='left',\n",
    "             fontsize=fs\n",
    "            )    \n",
    "    plt.text(55,\n",
    "             0.95e4,\n",
    "             'M-Kanten von Fe \\& Cr',\n",
    "             verticalalignment='top',\n",
    "             horizontalalignment='left',\n",
    "             fontsize=fs\n",
    "            )    \n",
    "    plt.text(565,\n",
    "             90,\n",
    "             'K-Kanten von O',\n",
    "             verticalalignment='top',\n",
    "             horizontalalignment='right',\n",
    "             fontsize=fs\n",
    "            )    \n",
    "    plt.text(578,\n",
    "             120,\n",
    "             'L-Kanten von Cr',\n",
    "             verticalalignment='bottom',\n",
    "             horizontalalignment='center',\n",
    "             fontsize=fs\n",
    "            )    \n",
    "    plt.text(708,\n",
    "             100,\n",
    "             'L-Kanten von Fe',\n",
    "             verticalalignment='bottom',\n",
    "             horizontalalignment='center',\n",
    "             fontsize=fs\n",
    "            )\n",
    "    \n",
    "    plt.xticks(range(0, 751, 50))\n",
    "    plt.savefig('Bilder/EELS_Overview')\n",
    "    plt.show()\n",
    "\n",
    "plot_EELS(df2)\n",
    "print('Das Maximum des Spektrum ist %d mal größer als das Minimum.' % int(round(df2.Y.max() / df2.Y.min())))"
   ]
  },
  {
   "cell_type": "code",
   "execution_count": 5,
   "metadata": {
    "collapsed": false,
    "deletable": true,
    "editable": true
   },
   "outputs": [
    {
     "name": "stdout",
     "output_type": "stream",
     "text": [
      "Potenzfunktion: I(E) = 3.486 * E**-2.096\n"
     ]
    },
    {
     "data": {
<<<<<<< HEAD
      "image/png": "iVBORw0KGgoAAAANSUhEUgAAAUcAAADSCAYAAADZlQIvAAAABHNCSVQICAgIfAhkiAAAAAlwSFlz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\nghACEUdBEIQQ/P+ZLy0dHEcchwAAAABJRU5ErkJggg==\n",
      "text/plain": [
       "<matplotlib.figure.Figure at 0x7fdfe693b9b0>"
=======
      "image/png": "iVBORw0KGgoAAAANSUhEUgAAAUcAAADSCAYAAADZlQIvAAAABHNCSVQICAgIfAhkiAAAAAlwSFlz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\nDyKOgiAIfvj/AcvsA/mH8nznAAAAAElFTkSuQmCC\n",
      "text/plain": [
       "<matplotlib.figure.Figure at 0x7f237bbd66a0>"
>>>>>>> 9f6918dbb300e1c939dfad81149e3a9990c115be
      ]
     },
     "metadata": {},
     "output_type": "display_data"
    }
   ],
   "source": [
    "def power(x, a, r):\n",
    "    return 10e6*a*x**r\n",
    "\n",
    "def fit_power(data_frame, start, stop):\n",
    "    filtered = data_frame.loc[data_frame.X > start].loc[data_frame.X < stop]\n",
    "    xs = filtered.X\n",
    "    ys = filtered.Y\n",
    "    popt, pcov = scipy.optimize.curve_fit(power, xs, ys, p0=(1, 1))\n",
    "    print('Potenzfunktion: I(E) = %.3f * E**%.3f' % tuple(popt))\n",
    "    return popt\n",
    "\n",
    "\n",
    "def plot_EELS_Kanten(data_frame):\n",
    "    # Shift 0eV to where the intensity is the highest:\n",
    "    x_offset = data_frame.X[np.argmax(data_frame.Y)]\n",
    "    data_frame.X = data_frame.X - x_offset\n",
    "    plt.figure(figsize=(5,3))\n",
    "    \n",
    "    plt.fill_between(data_frame.X, 0, data_frame.Y, label='gemessenes Signal', color='blue', alpha=0.33)\n",
    "    \n",
    "    filtered = data_frame.loc[data_frame.X >= 705].loc[data_frame.X <= 725]\n",
    "    plt.fill_between(filtered.X, 0, filtered.Y, label='', color='black', alpha=0.3)\n",
    "    plt.vlines(705, 0, filtered.Y[abs(filtered.X - 705) < 0.01])\n",
    "    plt.vlines(725, 0, filtered.Y[abs(filtered.X - 725) < 0.01])\n",
    "    \n",
    "    x_fit = np.linspace(600, data_frame.X.max(), 100)\n",
    "    a, r = fit_power(data_frame, 600, 680)\n",
    "    plt.plot(x_fit, power(x_fit, a, r), '--', color='black', lw=2, label='Potenzfunktion')\n",
    "    \n",
    "    plt.xlabel('Energieverlust [eV]')\n",
    "    plt.ylabel('Intensität [arb. u]')\n",
    "    plt.xlim(600, data_frame.X.max())\n",
    "    ymin, ymax = plt.ylim()\n",
    "    plt.ylim(0, 80)\n",
    "    \n",
    "    plt.legend(loc=2)\n",
    "    \n",
    "    plt.savefig('Bilder/EELS_L-Kanten')\n",
    "    plt.show()\n",
    "\n",
    "plot_EELS_Kanten(df2)"
   ]
  }
 ],
 "metadata": {
  "kernelspec": {
   "display_name": "Python 3",
   "language": "python",
   "name": "python3"
  },
  "language_info": {
   "codemirror_mode": {
    "name": "ipython",
    "version": 3
   },
   "file_extension": ".py",
   "mimetype": "text/x-python",
   "name": "python",
   "nbconvert_exporter": "python",
   "pygments_lexer": "ipython3",
   "version": "3.6.0"
  }
 },
 "nbformat": 4,
 "nbformat_minor": 2
}
