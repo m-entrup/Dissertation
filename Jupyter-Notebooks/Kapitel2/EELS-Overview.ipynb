{
 "cells": [
  {
   "cell_type": "markdown",
   "metadata": {
    "deletable": true,
    "editable": true
   },
   "source": [
    "## EELS - Overview\n",
    "\n",
    "Eines der beiden Diagramme wird in meiner Dissertation bei der Einführung von EELS verwendet.\n",
    "Es handelt sich um zusammengesetzte Spektren, die von eine Querschnittsprobe eines Eisen-Chrom-Schichtsystems aufgenommen wurden.\n",
    "\n",
    "Das zweite Diagramm soll veranschaulichen, was man unter einem Energiefenster versteht. Dazu wird am Beispiel der L_2,3-Kante von Eisen die Nutzung eines 20 eV breiten Energiefensters demonstriert. \n",
    "\n",
    "### Die Daten\n",
    "\n",
    "Es werden zwei verschiedene Spektren geladen (``df1`` und ``df2``). Genutzt wird nur eines der beiden, dies ist ``df2``."
   ]
  },
  {
   "cell_type": "code",
   "execution_count": 1,
   "metadata": {
    "collapsed": false,
    "deletable": true,
    "editable": true
   },
   "outputs": [],
   "source": [
    "import pandas as pd\n",
    "import numpy as np\n",
    "import scipy.optimize\n",
    "import matplotlib.pyplot as plt\n",
    "%matplotlib inline\n",
    "\n",
    "df1 = pd.read_csv('data/EELS-Overview-FeCr_1.csv')\n",
    "df2 = pd.read_csv('data/EELS-Overview-FeCr_2.csv')"
   ]
  },
  {
   "cell_type": "code",
   "execution_count": 2,
   "metadata": {
    "collapsed": false,
    "deletable": true,
    "editable": true
   },
   "outputs": [
    {
     "data": {
      "text/html": [
       "<div>\n",
       "<table border=\"1\" class=\"dataframe\">\n",
       "  <thead>\n",
       "    <tr style=\"text-align: right;\">\n",
       "      <th></th>\n",
       "      <th>X</th>\n",
       "      <th>Y</th>\n",
       "    </tr>\n",
       "  </thead>\n",
       "  <tbody>\n",
       "    <tr>\n",
       "      <th>0</th>\n",
       "      <td>-99.838</td>\n",
       "      <td>2163.001</td>\n",
       "    </tr>\n",
       "    <tr>\n",
       "      <th>1</th>\n",
       "      <td>-99.740</td>\n",
       "      <td>2163.001</td>\n",
       "    </tr>\n",
       "    <tr>\n",
       "      <th>2</th>\n",
       "      <td>-99.643</td>\n",
       "      <td>2163.001</td>\n",
       "    </tr>\n",
       "    <tr>\n",
       "      <th>3</th>\n",
       "      <td>-99.545</td>\n",
       "      <td>2163.001</td>\n",
       "    </tr>\n",
       "    <tr>\n",
       "      <th>4</th>\n",
       "      <td>-99.448</td>\n",
       "      <td>2161.463</td>\n",
       "    </tr>\n",
       "  </tbody>\n",
       "</table>\n",
       "</div>"
      ],
      "text/plain": [
       "        X         Y\n",
       "0 -99.838  2163.001\n",
       "1 -99.740  2163.001\n",
       "2 -99.643  2163.001\n",
       "3 -99.545  2163.001\n",
       "4 -99.448  2161.463"
      ]
     },
     "execution_count": 2,
     "metadata": {},
     "output_type": "execute_result"
    }
   ],
   "source": [
    "df1.head()"
   ]
  },
  {
   "cell_type": "code",
   "execution_count": 3,
   "metadata": {
    "collapsed": false,
    "deletable": true,
    "editable": true
   },
   "outputs": [
    {
     "data": {
      "text/html": [
       "<div>\n",
       "<table border=\"1\" class=\"dataframe\">\n",
       "  <thead>\n",
       "    <tr style=\"text-align: right;\">\n",
       "      <th></th>\n",
       "      <th>X</th>\n",
       "      <th>Y</th>\n",
       "    </tr>\n",
       "  </thead>\n",
       "  <tbody>\n",
       "    <tr>\n",
       "      <th>0</th>\n",
       "      <td>-5.070</td>\n",
       "      <td>2479.255</td>\n",
       "    </tr>\n",
       "    <tr>\n",
       "      <th>1</th>\n",
       "      <td>-4.972</td>\n",
       "      <td>2696.758</td>\n",
       "    </tr>\n",
       "    <tr>\n",
       "      <th>2</th>\n",
       "      <td>-4.875</td>\n",
       "      <td>2703.062</td>\n",
       "    </tr>\n",
       "    <tr>\n",
       "      <th>3</th>\n",
       "      <td>-4.777</td>\n",
       "      <td>2981.175</td>\n",
       "    </tr>\n",
       "    <tr>\n",
       "      <th>4</th>\n",
       "      <td>-4.680</td>\n",
       "      <td>3122.648</td>\n",
       "    </tr>\n",
       "  </tbody>\n",
       "</table>\n",
       "</div>"
      ],
      "text/plain": [
       "       X         Y\n",
       "0 -5.070  2479.255\n",
       "1 -4.972  2696.758\n",
       "2 -4.875  2703.062\n",
       "3 -4.777  2981.175\n",
       "4 -4.680  3122.648"
      ]
     },
     "execution_count": 3,
     "metadata": {},
     "output_type": "execute_result"
    }
   ],
   "source": [
    "df2.head()"
   ]
  },
  {
   "cell_type": "code",
   "execution_count": 4,
   "metadata": {
    "collapsed": false,
    "deletable": true,
    "editable": true,
    "scrolled": false
   },
   "outputs": [
    {
     "name": "stdout",
     "output_type": "stream",
     "text": [
      "Der ZLP liegt bei -0.195 eV.\n"
     ]
    },
    {
     "data": {
      "image/png": "[encoded data removed]",
      "text/plain": [
       "<matplotlib.figure.Figure at 0x7f92bfd55358>"
      ]
     },
     "metadata": {},
     "output_type": "display_data"
    },
    {
     "name": "stdout",
     "output_type": "stream",
     "text": [
      "Das Maximum des Spektrum ist 60917 mal größer als das Minimum.\n"
     ]
    }
   ],
   "source": [
    "def plot_EELS(data_frame):\n",
    "    \n",
    "    print('Der ZLP liegt bei %.3f eV.' % data_frame.X[np.argmax(data_frame.Y)])\n",
    "    # Shift 0eV to where the intensity is the highest:\n",
    "    x_offset = data_frame.X[np.argmax(data_frame.Y)]\n",
    "    data_frame.X = data_frame.X - x_offset\n",
    "    plt.figure(figsize=(10,5))\n",
    "    plt.fill_between(data_frame.X, 0, data_frame.Y, color='blue', alpha=0.33)\n",
    "    plt.xlabel('Energieverlust [eV]')\n",
    "    plt.ylabel('Intensität [arb. u]')\n",
    "    plt.yscale('log')\n",
    "    plt.xlim(-6, data_frame.X.max())\n",
    "    plt.ylim(1e1, round(1.2 * data_frame.Y.max()))\n",
    "    \n",
    "    fs = 10\n",
    "    plt.text(5,\n",
    "             2e6,\n",
    "             'ZLP',\n",
    "             verticalalignment='top',\n",
    "             horizontalalignment='left',\n",
    "             fontsize=fs\n",
    "            )  \n",
    "    plt.text(17,\n",
    "             2.5e4,\n",
    "             'Plasmon-Peaks',\n",
    "             verticalalignment='bottom',\n",
    "             horizontalalignment='left',\n",
    "             fontsize=fs\n",
    "            )    \n",
    "    plt.text(55,\n",
    "             0.95e4,\n",
    "             'M-Kanten von Fe \\& Cr',\n",
    "             verticalalignment='top',\n",
    "             horizontalalignment='left',\n",
    "             fontsize=fs\n",
    "            )    \n",
    "    plt.text(565,\n",
    "             90,\n",
    "             'K-Kanten von O',\n",
    "             verticalalignment='top',\n",
    "             horizontalalignment='right',\n",
    "             fontsize=fs\n",
    "            )    \n",
    "    plt.text(578,\n",
    "             120,\n",
    "             'L-Kanten von Cr',\n",
    "             verticalalignment='bottom',\n",
    "             horizontalalignment='center',\n",
    "             fontsize=fs\n",
    "            )    \n",
    "    plt.text(708,\n",
    "             100,\n",
    "             'L-Kanten von Fe',\n",
    "             verticalalignment='bottom',\n",
    "             horizontalalignment='center',\n",
    "             fontsize=fs\n",
    "            )\n",
    "    \n",
    "    plt.xticks(range(0, 751, 50))\n",
    "    plt.savefig('Bilder/EELS_Overview')\n",
    "    plt.show()\n",
    "\n",
    "plot_EELS(df2)\n",
    "print('Das Maximum des Spektrum ist %d mal größer als das Minimum.' % int(round(df2.Y.max() / df2.Y.min())))"
   ]
  },
  {
   "cell_type": "code",
   "execution_count": 5,
   "metadata": {
    "collapsed": false,
    "deletable": true,
    "editable": true
   },
   "outputs": [
    {
     "name": "stdout",
     "output_type": "stream",
     "text": [
      "Potenzfunktion: I(E) = 3.486 * E**-2.096\n"
     ]
    },
    {
     "data": {
      "image/png": "[encoded data removed]",
      "text/plain": [
       "<matplotlib.figure.Figure at 0x7f92bfd559e8>"
      ]
     },
     "metadata": {},
     "output_type": "display_data"
    }
   ],
   "source": [
    "def power(x, a, r):\n",
    "    return 10e6*a*x**r\n",
    "\n",
    "def fit_power(data_frame, start, stop):\n",
    "    filtered = data_frame.loc[data_frame.X > start].loc[data_frame.X < stop]\n",
    "    xs = filtered.X\n",
    "    ys = filtered.Y\n",
    "    popt, pcov = scipy.optimize.curve_fit(power, xs, ys, p0=(1, 1))\n",
    "    print('Potenzfunktion: I(E) = %.3f * E**%.3f' % tuple(popt))\n",
    "    return popt\n",
    "\n",
    "\n",
    "def plot_EELS_Kanten(data_frame):\n",
    "    # Shift 0eV to where the intensity is the highest:\n",
    "    x_offset = data_frame.X[np.argmax(data_frame.Y)]\n",
    "    data_frame.X = data_frame.X - x_offset\n",
    "    plt.figure(figsize=(5,3))\n",
    "    \n",
    "    plt.fill_between(data_frame.X, 0, data_frame.Y, label='gemessenes Signal', color='blue', alpha=0.33)\n",
    "    \n",
    "    filtered = data_frame.loc[data_frame.X >= 705].loc[data_frame.X <= 725]\n",
    "    plt.fill_between(filtered.X, 0, filtered.Y, label='', color='black', alpha=0.3)\n",
    "    plt.vlines(705, 0, filtered.Y[abs(filtered.X - 705) < 0.01])\n",
    "    plt.vlines(725, 0, filtered.Y[abs(filtered.X - 725) < 0.01])\n",
    "    \n",
    "    x_fit = np.linspace(600, data_frame.X.max(), 100)\n",
    "    a, r = fit_power(data_frame, 600, 680)\n",
    "    plt.plot(x_fit, power(x_fit, a, r), '--', color='black', lw=2, label='Potenzfunktion')\n",
    "    \n",
    "    plt.xlabel('Energieverlust [eV]')\n",
    "    plt.ylabel('Intensität [arb. u]')\n",
    "    plt.xlim(600, data_frame.X.max())\n",
    "    ymin, ymax = plt.ylim()\n",
    "    plt.ylim(0, 80)\n",
    "    \n",
    "    plt.legend(loc=2)\n",
    "    \n",
    "    plt.savefig('Bilder/EELS_L-Kanten')\n",
    "    plt.show()\n",
    "\n",
    "plot_EELS_Kanten(df2)"
   ]
  }
 ],
 "metadata": {
  "kernelspec": {
   "display_name": "Python 3",
   "language": "python",
   "name": "python3"
  },
  "language_info": {
   "codemirror_mode": {
    "name": "ipython",
    "version": 3
   },
   "file_extension": ".py",
   "mimetype": "text/x-python",
   "name": "python",
   "nbconvert_exporter": "python",
   "pygments_lexer": "ipython3",
   "version": "3.6.0"
  }
 },
 "nbformat": 4,
 "nbformat_minor": 2
}
