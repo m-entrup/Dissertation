{
 "cells": [
  {
   "cell_type": "markdown",
   "metadata": {
    "deletable": true,
    "editable": true
   },
   "source": [
    "## EELS - RAW\n",
    "\n",
    "Dieses Spektrum wurde aus einem Bild erzeugt. Dazu dient das ImageJ Macro ``EELS_RAW.ijm``.\n",
    "\n",
    "Das Macro befindet sich im Ordner ``20151027 Schritt für Schritt zu SR-EELS/4. Von EELS nach SR-EELS``."
   ]
  },
  {
   "cell_type": "code",
   "execution_count": 1,
   "metadata": {
    "collapsed": false,
    "deletable": true,
    "editable": true,
    "scrolled": false
   },
   "outputs": [
    {
     "data": {
      "image/png": "[encoded data removed]",
      "text/plain": [
       "<matplotlib.figure.Figure at 0x7f8e50986b38>"
      ]
     },
     "metadata": {},
     "output_type": "display_data"
    }
   ],
   "source": [
    "import pandas as pd\n",
    "import numpy as np\n",
    "import matplotlib.pyplot as plt\n",
    "%matplotlib inline\n",
    "\n",
    "df = pd.read_csv('data/EELS_RAW.tsv', delimiter='\\t')\n",
    "\n",
    "x_offset = df.ELoss[np.argmax(df.Intensity)]\n",
    "df.ELoss -= x_offset\n",
    "\n",
    "plt.figure(figsize=(3, 3))\n",
    "plt.fill_between(df.ELoss, 0, df.Intensity, color='blue', alpha=0.33)\n",
    "plt.xlabel('Energieverlust [eV]')\n",
    "plt.ylabel('Intensität [arb. u]')\n",
    "plt.xlim(-10, 60)\n",
    "plt.xticks(range(-10, 61, 10))\n",
    "plt.ylim(0, 3500)\n",
    "plt.savefig('Bilder/EELS_RAW_Plot')\n",
    "plt.show()"
   ]
  }
 ],
 "metadata": {
  "kernelspec": {
   "display_name": "Python 3",
   "language": "python",
   "name": "python3"
  },
  "language_info": {
   "codemirror_mode": {
    "name": "ipython",
    "version": 3
   },
   "file_extension": ".py",
   "mimetype": "text/x-python",
   "name": "python",
   "nbconvert_exporter": "python",
   "pygments_lexer": "ipython3",
   "version": "3.6.0"
  }
 },
 "nbformat": 4,
 "nbformat_minor": 0
}
