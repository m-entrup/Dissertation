{
 "cells": [
  {
   "cell_type": "markdown",
   "metadata": {
    "deletable": true,
    "editable": true
   },
   "source": [
    "## EELS - SpacMag\n",
    "\n"
   ]
  },
  {
   "cell_type": "code",
   "execution_count": 1,
   "metadata": {
    "collapsed": false,
    "deletable": true,
    "editable": true
   },
   "outputs": [],
   "source": [
    "%matplotlib inline\n",
    "import matplotlib\n",
    "import numpy as np\n",
    "import matplotlib.pyplot as plt"
   ]
  },
  {
   "cell_type": "markdown",
   "metadata": {
    "deletable": true,
    "editable": true
   },
   "source": [
    "Das Libra bietet 12 verschiedene SpecMag Werte, wobei diese in Absteigender Reihenfolge sortiert sind. Bei DM sind diese unter ``Filter:Zeiss Filter:Native dispersions`` zu finden. Zu jedem SpecMag Wert wird außerdem eine Kalibrierung hinterlegt. Diese sind in ``Filter:Calibrated dispersions:TEM:200000`` zu finden. Statt die Dispersion pro Pixel anzugeben, wird eine Variante gewählt, die die Pixel für ein Energieverlustintervall von 15 eV angibt. Es gilt somit:\n",
    "\n",
    "DM-Dispersion[px] = 15eV / Dispersion[eV/px]\n",
    "\n",
    "Die aktuell (am 7.9.2016) hinterlegten Werte sind in der nächsten IPython-Zelle aufgelistet und werden dort umgerechnet."
   ]
  },
  {
   "cell_type": "code",
   "execution_count": 2,
   "metadata": {
    "collapsed": false,
    "deletable": true,
    "editable": true
   },
   "outputs": [],
   "source": [
    "def convert_dispersion(dispersion):\n",
    "    \"\"\"Converts a dispersion from eV/px to the DM format and inversely.\n",
    "    The calculation is the same for both directions.\"\"\"\n",
    "    return 15 / dispersion\n",
    "\n",
    "dispersions_dm = {\n",
    "    '315': 770.8,\n",
    "    '250': 610,\n",
    "    '200': 496.4,\n",
    "    '163': 394.6,\n",
    "    '125': 307.7,\n",
    "    '100': 227.0,\n",
    "    '80': 193.64,\n",
    "    '63': 164.22,\n",
    "    '50': 134.36,\n",
    "    '40': 109.58,\n",
    "    '19.5': 89.1,\n",
    "    '0.25': 65.6\n",
    "}\n",
    "\n",
    "dispersions = {}\n",
    "for key, value in dispersions_dm.items():\n",
    "    dispersions[key] = convert_dispersion(value)"
   ]
  },
  {
   "cell_type": "code",
   "execution_count": 3,
   "metadata": {
    "collapsed": false,
    "deletable": true,
    "editable": true
   },
   "outputs": [],
   "source": [
    "# Ich darf sort() anwenden, da die erste Liste monoton absteigende\n",
    "# und die zweite Liste monoton aufsteigende Werte enthält.\n",
    "# Im Dictionary waren die Werte nicht sortiert.\n",
    "spec_mags = [float(sm) for sm in dispersions.keys()]\n",
    "spec_mags.sort(reverse=True)\n",
    "cam_width = 4096\n",
    "spec_width = [cam_width * value for value in dispersions.values()]\n",
    "spec_width.sort()"
   ]
  },
  {
   "cell_type": "code",
   "execution_count": 4,
   "metadata": {
    "collapsed": false,
    "deletable": true,
    "editable": true
   },
   "outputs": [
    {
     "data": {
      "image/png": "[encoded data removed]",
      "text/plain": [
       "<matplotlib.figure.Figure at 0x7fd7e7a01160>"
      ]
     },
     "metadata": {},
     "output_type": "display_data"
    }
   ],
   "source": [
    "plt.title('Energieintervall gegen Spektrumsvergrößerung')\n",
    "plt.xlabel('Spektrumsvergrößerung [arb. u.]')\n",
    "plt.ylabel('Energieintervall [eV]')\n",
    "plt.xlim(30,350)\n",
    "plt.yscale('log')\n",
    "plt.xscale('log')\n",
    "plt.scatter(spec_mags, spec_width)\n",
    "plt.show()"
   ]
  },
  {
   "cell_type": "code",
   "execution_count": 5,
   "metadata": {
    "collapsed": false,
    "deletable": true,
    "editable": true
   },
   "outputs": [
    {
     "name": "stdout",
     "output_type": "stream",
     "text": [
      "Potenzfunktion:\n",
      "[  1.54580213e+04  -8.97097502e-01]\n",
      "[[  2.00159901e+04  -3.11895009e-01]\n",
      " [ -3.11895009e-01   4.92307624e-06]]\n",
      "Exponentialfunktion:\n",
      "[  7.54876015e+02   9.82800982e-03]\n"
     ]
    }
   ],
   "source": [
    "# http://docs.scipy.org/doc/scipy/reference/tutorial/optimize.html\n",
    "import scipy.optimize\n",
    "\n",
    "power_func = lambda x,a,r: a*x**r\n",
    "exp_func = lambda x,a,c: a*np.exp(-c*x)\n",
    "errfunc = lambda p,x,y: (y-power_func(x,p[0],p[1]))\n",
    "errfunc2 = lambda p,x,y: (y-exp_func(x,p[0],p[1]))\n",
    "# http://docs.scipy.org/doc/scipy/reference/generated/scipy.optimize.least_squares.html#scipy.optimize.least_squares\n",
    "# Alternative:\n",
    "# http://docs.scipy.org/doc/scipy/reference/generated/scipy.optimize.curve_fit.html#scipy.optimize.curve_fit\n",
    "p, cov_p, info, mesg, success = scipy.optimize.leastsq(\n",
    "    errfunc, [1000,-1], args=(spec_mags[:-2], spec_width[:-2]), full_output=True)\n",
    "if success:\n",
    "    print('Potenzfunktion:')\n",
    "    print(p)\n",
    "    print(cov_p)\n",
    "else:\n",
    "    print(mesg)\n",
    "\n",
    "popt, pcov = scipy.optimize.curve_fit(exp_func, spec_mags[:-2], spec_width[:-2], p0=(1, 1e-6))\n",
    "print('Exponentialfunktion:')\n",
    "print(popt)"
   ]
  },
  {
   "cell_type": "code",
   "execution_count": 6,
   "metadata": {
    "collapsed": false,
    "deletable": true,
    "editable": true
   },
   "outputs": [
    {
     "data": {
      "image/png": "[encoded data removed]",
      "text/plain": [
       "<matplotlib.figure.Figure at 0x7fd7e57f9828>"
      ]
     },
     "metadata": {},
     "output_type": "display_data"
    }
   ],
   "source": [
    "plt.title('Energieintervall gegen Spektrumsvergrößerung')\n",
    "plt.xlabel('Spektrumsvergrößerung [arb. u.]')\n",
    "plt.ylabel('Energieintervall [eV]')\n",
    "plt.xlim(0.1,350)\n",
    "plt.yscale('log')\n",
    "plt.xscale('log')\n",
    "plt.plot(range(1,350),power_func(range(1,350), p[0], p[1]))\n",
    "plt.scatter(spec_mags, spec_width)\n",
    "plt.show()"
   ]
  },
  {
   "cell_type": "code",
   "execution_count": 7,
   "metadata": {
    "collapsed": false,
    "deletable": true,
    "editable": true
   },
   "outputs": [
    {
     "name": "stdout",
     "output_type": "stream",
     "text": [
      "32.0258099965 22.7652987107\n"
     ]
    }
   ],
   "source": [
    "import math\n",
    "\n",
    "solve_func = lambda x,t: t - power_func(x, p[0], p[1])\n",
    "\n",
    "width1 = dispersions['19.5'] * cam_width\n",
    "width2 = dispersions['0.25'] * cam_width\n",
    "\n",
    "sm1 = scipy.optimize.fsolve(solve_func, 19.5, width1)[0]\n",
    "sm2 = scipy.optimize.fsolve(solve_func, 0.25, width2)[0]\n",
    "\n",
    "print(sm1, sm2)"
   ]
  },
  {
   "cell_type": "code",
   "execution_count": 8,
   "metadata": {
    "collapsed": false,
    "deletable": true,
    "editable": true
   },
   "outputs": [
    {
     "name": "stdout",
     "output_type": "stream",
     "text": [
      "[315.0, 250.0, 200.0, 163.0, 125.0, 100.0, 80.0, 63.0, 50.0, 40.0, 30.0, 25.0]\n"
     ]
    }
   ],
   "source": [
    "if 19.5 in spec_mags:\n",
    "    spec_mags[spec_mags.index(19.5)] = round(sm1/5)*5\n",
    "if 0.25 in spec_mags:\n",
    "    spec_mags[spec_mags.index(0.25)] = round(sm2/5)*5\n",
    "print(spec_mags)"
   ]
  },
  {
   "cell_type": "code",
   "execution_count": 9,
   "metadata": {
    "collapsed": false,
    "deletable": true,
    "editable": true
   },
   "outputs": [
    {
     "data": {
      "image/png": "[encoded data removed]",
      "text/plain": [
       "<matplotlib.figure.Figure at 0x7fd7dfada940>"
      ]
     },
     "metadata": {},
     "output_type": "display_data"
    }
   ],
   "source": [
    "plt.title('Energieintervall gegen Spektrumsvergrößerung')\n",
    "plt.xlabel('Spektrumsvergrößerung [arb. u.]')\n",
    "plt.ylabel('Energieintervall [eV]')\n",
    "plt.xlim(20,350)\n",
    "plt.yscale('log')\n",
    "plt.xscale('log')\n",
    "plt.plot(range(1,350),power_func(range(1,350), p[0], p[1]))\n",
    "plt.scatter(spec_mags, spec_width)\n",
    "plt.show()"
   ]
  },
  {
   "cell_type": "markdown",
   "metadata": {
    "deletable": true,
    "editable": true
   },
   "source": [
    "Die Auswertung hat gezeigt, dass die beiden kleinsten Werte angepasst werden müssen. Aus 19,5 wird 30 und aus 0,25 wird 25. Dies setzt jedoch vorraus, dass die hinterlegten Dispersionen korrekt sind. Ist dies nicht der Fall, dann ergeben sich abweichende Werte."
   ]
  },
  {
   "cell_type": "code",
   "execution_count": 10,
   "metadata": {
    "collapsed": false,
    "deletable": true,
    "editable": true
   },
   "outputs": [
    {
     "data": {
      "image/png": "[encoded data removed]",
      "text/plain": [
       "<matplotlib.figure.Figure at 0x7fd7dfa3e668>"
      ]
     },
     "metadata": {},
     "output_type": "display_data"
    }
   ],
   "source": [
    "plt.figure(figsize=(10, 5))\n",
    "plt.title('Energieintervall gegen Spektrumsvergrößerung')\n",
    "plt.xlabel('Spektrumsvergrößerung [arb. u.]')\n",
    "plt.ylabel('Energieintervall [eV]')\n",
    "plt.plot(range(1,375), power_func(range(1,375), p[0], p[1]))\n",
    "#plt.plot(range(1,375), exp_func(range(1,375), popt[0], popt[1]))\n",
    "plt.scatter(spec_mags, spec_width, linewidths=3, )\n",
    "plt.xlim(0, 375)\n",
    "plt.ylim(0, 1000)\n",
    "for i, mag in enumerate(spec_mags):\n",
    "    plt.text(mag + 5,\n",
    "             spec_width[i] + 10,\n",
    "             '%dx (%d eV)' % (int(mag), spec_width[i]),\n",
    "             verticalalignment='bottom',\n",
    "             horizontalalignment='left',\n",
    "             fontsize=9\n",
    "            )\n",
    "plt.savefig('Bilder/Intervall_vs_SpecMag')\n",
    "plt.show()"
   ]
  },
  {
   "cell_type": "code",
   "execution_count": 11,
   "metadata": {
    "collapsed": false,
    "deletable": true,
    "editable": true
   },
   "outputs": [
    {
     "name": "stdout",
     "output_type": "stream",
     "text": [
      "SM\tDispersion\n",
      "0.25:\t0.228659\n",
      "19.5:\t0.16835\n",
      "40.0:\t0.136886\n",
      "50.0:\t0.11164\n",
      "63.0:\t0.0913409\n",
      "80.0:\t0.0774633\n",
      "100.0:\t0.0660793\n",
      "125.0:\t0.0487488\n",
      "163.0:\t0.0380132\n",
      "200.0:\t0.0302176\n",
      "250.0:\t0.0245902\n",
      "315.0:\t0.0194603\n"
     ]
    }
   ],
   "source": [
    "sm_list = [(float(key), dispersions[key]) for key in dispersions.keys()]\n",
    "\n",
    "print('SM\\tDispersion')\n",
    "for sm in sorted(sm_list, key=lambda x: x[0]):\n",
    "    print('%s:\\t%g' % sm)"
   ]
  }
 ],
 "metadata": {
  "kernelspec": {
   "display_name": "Python 3",
   "language": "python",
   "name": "python3"
  },
  "language_info": {
   "codemirror_mode": {
    "name": "ipython",
    "version": 3
   },
   "file_extension": ".py",
   "mimetype": "text/x-python",
   "name": "python",
   "nbconvert_exporter": "python",
   "pygments_lexer": "ipython3",
   "version": "3.6.0"
  }
 },
 "nbformat": 4,
 "nbformat_minor": 0
}
