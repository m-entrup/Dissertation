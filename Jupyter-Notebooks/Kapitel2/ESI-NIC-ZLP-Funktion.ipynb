{
 "cells": [
  {
   "cell_type": "markdown",
   "metadata": {
    "deletable": true,
    "editable": true
   },
   "source": [
    "Diese Funktion beschreibt den ZLP bei der Nutzung von Imgaging Spectroscopy (ImgSpec). Da der Kleinste Energiespalt eine Breite von 2,8eV besitzt, beschreibt ein einfacher Gauss den ZLP unzureichend.\n",
    "\n",
    "Die Funktion ist so gewählt, dass für m+/-s 68,3% der Fläche innerhalb dieses Intervalls liegen."
   ]
  },
  {
   "cell_type": "code",
   "execution_count": 1,
   "metadata": {
    "collapsed": false,
    "deletable": true,
    "editable": true
   },
   "outputs": [
    {
     "data": {
      "text/html": [
       "<html><script type=\"math/tex; mode=display\">\\newcommand{\\Bold}[1]{\\mathbf{#1}}x \\ {\\mapsto}\\ a e^{\\left(-\\frac{0.170753363841268 \\, {\\left(m - x\\right)}^{4}}{s^{4}}\\right)}</script></html>"
      ],
      "text/plain": [
       "x |--> a*e^(-0.170753363841268*(m - x)^4/s^4)"
      ]
     },
     "metadata": {},
     "output_type": "display_data"
    }
   ],
   "source": [
    "var('x,a,m,s')\n",
    "zlp(x) = a * exp(-(x - m)**4/(4 * (1.1 * s)**4))\n",
    "show(zlp)"
   ]
  },
  {
   "cell_type": "code",
   "execution_count": 2,
   "metadata": {
    "collapsed": false,
    "deletable": true,
    "editable": true
   },
   "outputs": [
    {
     "data": {
      "text/html": [
       "<html><script type=\"math/tex; mode=display\">\\newcommand{\\Bold}[1]{\\mathbf{#1}}x \\ {\\mapsto}\\ \\frac{0.683013455365071 \\, a {\\left(m - x\\right)}^{3} e^{\\left(-\\frac{0.170753363841268 \\, {\\left(m - x\\right)}^{4}}{s^{4}}\\right)}}{s^{4}}</script></html>"
      ],
      "text/plain": [
       "x |--> 0.683013455365071*a*(m - x)^3*e^(-0.170753363841268*(m - x)^4/s^4)/s^4"
      ]
     },
     "metadata": {},
     "output_type": "display_data"
    }
   ],
   "source": [
    "show(zlp.derivative(x))"
   ]
  },
  {
   "cell_type": "markdown",
   "metadata": {
    "deletable": true,
    "editable": true
   },
   "source": [
    "Im Folgenden werden die Ableitungen nach den Parametern bestimmt. Diese Werden benötigt, um den Gradienten zu bestimmen."
   ]
  },
  {
   "cell_type": "code",
   "execution_count": 3,
   "metadata": {
    "collapsed": false,
    "deletable": true,
    "editable": true
   },
   "outputs": [
    {
     "data": {
      "text/html": [
       "<html><script type=\"math/tex; mode=display\">\\newcommand{\\Bold}[1]{\\mathbf{#1}}x \\ {\\mapsto}\\ e^{\\left(-\\frac{0.170753363841268 \\, {\\left(m - x\\right)}^{4}}{s^{4}}\\right)}</script></html>"
      ],
      "text/plain": [
       "x |--> e^(-0.170753363841268*(m - x)^4/s^4)"
      ]
     },
     "metadata": {},
     "output_type": "display_data"
    }
   ],
   "source": [
    "show(zlp.derivative(a))"
   ]
  },
  {
   "cell_type": "code",
   "execution_count": 4,
   "metadata": {
    "collapsed": false,
    "deletable": true,
    "editable": true
   },
   "outputs": [
    {
     "data": {
      "text/html": [
       "<html><script type=\"math/tex; mode=display\">\\newcommand{\\Bold}[1]{\\mathbf{#1}}x \\ {\\mapsto}\\ -\\frac{0.683013455365071 \\, a {\\left(m - x\\right)}^{3} e^{\\left(-\\frac{0.170753363841268 \\, {\\left(m - x\\right)}^{4}}{s^{4}}\\right)}}{s^{4}}</script></html>"
      ],
      "text/plain": [
       "x |--> -0.683013455365071*a*(m - x)^3*e^(-0.170753363841268*(m - x)^4/s^4)/s^4"
      ]
     },
     "metadata": {},
     "output_type": "display_data"
    }
   ],
   "source": [
    "show(zlp.derivative(m))"
   ]
  },
  {
   "cell_type": "code",
   "execution_count": 5,
   "metadata": {
    "collapsed": false,
    "deletable": true,
    "editable": true
   },
   "outputs": [
    {
     "data": {
      "text/html": [
       "<html><script type=\"math/tex; mode=display\">\\newcommand{\\Bold}[1]{\\mathbf{#1}}x \\ {\\mapsto}\\ \\frac{0.683013455365071 \\, a {\\left(m - x\\right)}^{4} e^{\\left(-\\frac{0.170753363841268 \\, {\\left(m - x\\right)}^{4}}{s^{4}}\\right)}}{s^{5}}</script></html>"
      ],
      "text/plain": [
       "x |--> 0.683013455365071*a*(m - x)^4*e^(-0.170753363841268*(m - x)^4/s^4)/s^5"
      ]
     },
     "metadata": {},
     "output_type": "display_data"
    }
   ],
   "source": [
    "show(zlp.derivative(s))"
   ]
  }
 ],
 "metadata": {
  "kernelspec": {
   "display_name": "SageMath 7.5.1",
   "language": "",
   "name": "sagemath"
  },
  "language_info": {
   "codemirror_mode": {
    "name": "ipython",
    "version": 2
   },
   "file_extension": ".py",
   "mimetype": "text/x-python",
   "name": "python",
   "nbconvert_exporter": "python",
   "pygments_lexer": "ipython2",
   "version": "2.7.13"
  }
 },
 "nbformat": 4,
 "nbformat_minor": 2
}
