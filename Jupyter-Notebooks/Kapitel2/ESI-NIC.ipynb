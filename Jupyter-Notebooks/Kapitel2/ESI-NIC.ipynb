{
 "cells": [
  {
   "cell_type": "code",
   "execution_count": 1,
   "metadata": {
    "collapsed": false,
    "deletable": true,
    "editable": true
   },
   "outputs": [
    {
     "name": "stdout",
     "output_type": "stream",
     "text": [
      "Parameter vor dem Verschieben:\n",
      "m = -0.973\n",
      "s = 1.31\n",
      "y0 = 6.79e+03\n",
      "Parameter nach dem Verschieben:\n",
      "m = -2.32e-07\n",
      "s = 1.31\n",
      "y0 = 6.79e+03\n"
     ]
    },
    {
     "data": {
      "image/png": "[encoded data removed]",
      "text/plain": [
       "<matplotlib.figure.Figure at 0x7f93fe6b6a90>"
      ]
     },
     "metadata": {},
     "output_type": "display_data"
    }
   ],
   "source": [
    "import matplotlib\n",
    "import numpy as np\n",
    "import matplotlib.pyplot as plt\n",
    "import pandas as pd\n",
    "%matplotlib inline\n",
    "\n",
    "data = pd.read_csv('data/ZLP@511,511.tsv', delimiter='\\t')\n",
    "\n",
    "data.Y0 = data.Y0 / 7.33\n",
    "\n",
    "from scipy.optimize import curve_fit\n",
    "\n",
    "gauss = lambda x, m, s, y0: y0*np.exp(-(x-m)**4/(4*(1.1*s)**4))\n",
    "\n",
    "popt,pcov = curve_fit(gauss,\n",
    "                      data.X0,\n",
    "                      data.Y0,\n",
    "                      p0=[0, 1.4, data.Y0.max()]\n",
    "                     )\n",
    "print('Parameter vor dem Verschieben:\\nm = {:.3g}\\ns = {:.3g}\\ny0 = {:.3g}'.format(*popt))\n",
    "\n",
    "# ZLP auf 0eV verschieben:\n",
    "data.X0 = data.X0 - popt[0]\n",
    "popt,pcov = curve_fit(gauss,\n",
    "                      data.X0,\n",
    "                      data.Y0,\n",
    "                      p0=[0, 1.4, data.Y0.max()]\n",
    "                     )\n",
    "print('Parameter nach dem Verschieben:\\nm = {:.3g}\\ns = {:.3g}\\ny0 = {:.3g}'.format(*popt))\n",
    "\n",
    "xs = np.linspace(data.X0.min(), data.X0.max(), 1000)\n",
    "ys = [gauss(x + popt[0], popt[0], popt[1], popt[2]) for x in xs]\n",
    "\n",
    "plt.figure(figsize=(5, 5))\n",
    "plt.xlabel('Energieverlust [eV]')\n",
    "plt.ylabel('Intensität [a.u.]')\n",
    "plt.xlim(data.X0.min(), data.X0.max())\n",
    "plt.ylim(0, 7000)\n",
    "\n",
    "plt.plot(xs,\n",
    "         ys,\n",
    "         zorder=-1,\n",
    "         c='r',\n",
    "         ls='dashed',\n",
    "         lw=2,\n",
    "         label=r'$I(\\Delta E)=I_0\\cdot\\exp\\left(-\\frac{(\\Delta E - \\Delta E_0)^4}{4\\cdot (1,1\\cdot\\sigma)^4}\\right)$'\n",
    "        )\n",
    "plt.errorbar(data.X0,\n",
    "             data.Y0,\n",
    "             yerr=np.sqrt(data.Y0),\n",
    "             c='g',\n",
    "             linestyle='',\n",
    "             capsize=4,\n",
    "             capthick=1,\n",
    "             label='Messwerte'\n",
    "            )\n",
    "plt.legend(loc='best')\n",
    "plt.savefig('Bilder/NIC-ZLP')"
   ]
  }
 ],
 "metadata": {
  "kernelspec": {
   "display_name": "Python 3",
   "language": "python",
   "name": "python3"
  },
  "language_info": {
   "codemirror_mode": {
    "name": "ipython",
    "version": 3
   },
   "file_extension": ".py",
   "mimetype": "text/x-python",
   "name": "python",
   "nbconvert_exporter": "python",
   "pygments_lexer": "ipython3",
   "version": "3.6.0"
  }
 },
 "nbformat": 4,
 "nbformat_minor": 1
}
