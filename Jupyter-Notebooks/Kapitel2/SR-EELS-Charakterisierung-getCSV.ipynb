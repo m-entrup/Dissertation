{
 "cells": [
  {
   "cell_type": "code",
   "execution_count": 1,
   "metadata": {
    "collapsed": false,
    "deletable": true,
    "editable": true
   },
   "outputs": [],
   "source": [
    "import os\n",
    "import errno   \n",
    "from shutil import copyfile\n",
    "\n",
    "def check_filters(string, filters, find_one=False):\n",
    "    if 'corrected' in string:\n",
    "        return False\n",
    "    if find_one:\n",
    "        result = False\n",
    "        for filter in filters:\n",
    "            if filter in string:\n",
    "                result = True\n",
    "        return result\n",
    "    \n",
    "    result = True\n",
    "    for filter in filters:\n",
    "        if not filter in string:\n",
    "            return False\n",
    "    return result\n",
    "\n",
    "def get_file_list(path, filters):\n",
    "    file_list = []\n",
    "    count = 0\n",
    "    for root, folders, files in os.walk(path):\n",
    "        for file in files:\n",
    "            if file.endswith('.csv'):\n",
    "                if check_filters(root, filters):\n",
    "                    count += 1\n",
    "                    file_list.append({'root': root, 'file': file})\n",
    "    print('Found {} data sets for the filter {}.'.format(count, filters))\n",
    "    return file_list    \n",
    "\n",
    "def mkdirs(path):\n",
    "    try:\n",
    "        os.makedirs(path)\n",
    "    except OSError as exc:\n",
    "        if exc.errno == errno.EEXIST and os.path.isdir(path):\n",
    "            pass\n",
    "        else:\n",
    "            raise"
   ]
  },
  {
   "cell_type": "code",
   "execution_count": 2,
   "metadata": {
    "collapsed": false,
    "deletable": true,
    "editable": true
   },
   "outputs": [
    {
     "name": "stdout",
     "output_type": "stream",
     "text": [
      "Found 559 data sets for the filter ('Li,16', 'poly3').\n",
      "Found 559 data sets for the filter ('Li,32', 'poly3').\n",
      "Found 587 data sets for the filter ('Limit,16', 'poly3').\n",
      "Found 559 data sets for the filter ('Limit,32', 'poly3').\n"
     ]
    }
   ],
   "source": [
    "path_in = '/run/media/michael/UNI-STICK/SR-EELS Daten'\n",
    "path_out = 'data'\n",
    "\n",
    "tasks = ({\n",
    "    'path': os.path.join(path_out, 'characterisation_Li,16,poly3'),\n",
    "    'filter': ('Li,16', 'poly3')\n",
    "}, {\n",
    "    'path': os.path.join(path_out, 'characterisation_Li,32,poly3'),\n",
    "    'filter': ('Li,32', 'poly3')\n",
    "}, {\n",
    "    'path': os.path.join(path_out, 'characterisation_Limit,16,poly3'),\n",
    "    'filter': ('Limit,16', 'poly3')\n",
    "}, {\n",
    "    'path': os.path.join(path_out, 'characterisation_Limit,32,poly3'),\n",
    "    'filter': ('Limit,32', 'poly3')\n",
    "})\n",
    "\n",
    "for task in tasks:\n",
    "    csv_list = get_file_list(path_in, task['filter'])\n",
    "    for file in csv_list:\n",
    "        folder = file['root'].replace(path_in, task['path'])\n",
    "        mkdirs(folder)\n",
    "        copyfile(os.path.join(*file.values()), os.path.join(folder, file['file']))"
   ]
  }
 ],
 "metadata": {
  "kernelspec": {
   "display_name": "Python 3",
   "language": "python",
   "name": "python3"
  },
  "language_info": {
   "codemirror_mode": {
    "name": "ipython",
    "version": 3
   },
   "file_extension": ".py",
   "mimetype": "text/x-python",
   "name": "python",
   "nbconvert_exporter": "python",
   "pygments_lexer": "ipython3",
   "version": "3.6.0"
  }
 },
 "nbformat": 4,
 "nbformat_minor": 2
}
